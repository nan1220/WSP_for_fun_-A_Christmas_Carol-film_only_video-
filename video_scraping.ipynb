{
 "cells": [
  {
   "cell_type": "code",
   "execution_count": 8,
   "metadata": {},
   "outputs": [
    {
     "name": "stdout",
     "output_type": "stream",
     "text": [
      "<!DOCTYPE html>\n",
      "<html>\n",
      " <head>\n",
      "  <meta content=\"text/html;charset=utf-8\" http-equiv=\"Content-Type\"/>\n",
      "  <meta content=\"width=device-width,initial-scale=1.0,maximum-scale=1.0,user-scalable=0,viewport-fit=cover\" name=\"viewport\"/>\n",
      "  <meta content=\"light dark\" name=\"color-scheme\"/>\n",
      "  <meta content=\"yes\" name=\"apple-mobile-web-app-capable\"/>\n",
      "  <meta content=\"black\" name=\"apple-mobile-web-app-status-bar-style\"/>\n",
      "  <meta content=\"telephone=no\" name=\"format-detection\"/>\n",
      "  <link href=\"//res.wx.qq.com/a/wx_fed/assets/res/NTI4MWU5.ico\" rel=\"shortcut icon\" type=\"image/x-icon\"/>\n",
      "  <link color=\"#4C4C4C\" href=\"//res.wx.qq.com/a/wx_fed/assets/res/MjliNWVm.svg\" rel=\"mask-icon\"/>\n",
      "  <link href=\"//res.wx.qq.com/a/wx_fed/assets/res/OTE0YTAw.png\" rel=\"apple-touch-icon-precomposed\"/>\n",
      "  <title>\n",
      "  </title>\n",
      "  <script>\n",
      "   (() => {\n",
      "            \n",
      "            const ua = navigator.userAgent;\n",
      "            const noMobile = !(/(iPhone|iPad|iPod|iOS)/i.test(ua) || /Windows\\sPhone/i.test(ua) || /(Android)/i.test(ua));\n",
      "            setTimeout(() => {\n",
      "                noMobile && document.title === '' && (document.title = '微信公众平台');\n",
      "            }, 1000);\n",
      "        })();\n",
      "  </script>\n",
      "  <link href=\"//res.wx.qq.com/t/wx_fed/weui-source/res/2.5.14/weui.min.css\" rel=\"stylesheet\" type=\"text/css\"/>\n",
      "  <link href=\"//res.wx.qq.com/mmbizwap/zh_CN/htmledition/style/page/secitptpage/verify74f27e.css\" media=\"all\" rel=\"stylesheet\"/>\n",
      "  <script type=\"text/javascript\">\n",
      "  </script>\n",
      " </head>\n",
      " <body class=\"zh_CN\" ontouchstart=\"\">\n",
      "  <div class=\"weui-msg\">\n",
      "   <div class=\"top_tips warning\" id=\"tips\" style=\"display:none;\">\n",
      "   </div>\n",
      "   <div class=\"weui-msg__icon-area\">\n",
      "    <i class=\"weui-icon-info-circle weui-icon_msg\">\n",
      "    </i>\n",
      "   </div>\n",
      "   <div class=\"weui-msg__text-area pc-area\">\n",
      "    <h2 class=\"weui-msg__title\">\n",
      "     环境异常\n",
      "    </h2>\n",
      "    <p class=\"weui-msg__desc\">\n",
      "     当前环境异常，完成验证后即可继续访问。\n",
      "    </p>\n",
      "   </div>\n",
      "   <div class=\"weui-msg__opr-area\">\n",
      "    <p class=\"weui-btn-area\">\n",
      "     <a class=\"weui-btn weui-btn_primary\" id=\"js_verify\">\n",
      "      去验证\n",
      "     </a>\n",
      "    </p>\n",
      "   </div>\n",
      "  </div>\n",
      "  <script type=\"text/javascript\">\n",
      "   var PAGE_MID='mmbizwap:secitptpage/verify.html';\n",
      "  </script>\n",
      "  <style>\n",
      "   body,.wx-root{--weui-BG-0:#ededed;--weui-BG-1:#f7f7f7;--weui-BG-2:#fff;--weui-BG-3:#f7f7f7;--weui-BG-4:#4c4c4c;--weui-BG-5:#fff;--weui-FG-0:rgba(0,0,0,0.9);--weui-FG-HALF:rgba(0,0,0,0.9);--weui-FG-1:rgba(0,0,0,0.5);--weui-FG-2:rgba(0,0,0,0.3);--weui-FG-3:rgba(0,0,0,0.1);--weui-FG-4:rgba(0,0,0,0.15);--weui-FG-5:rgba(0,0,0,0.05);--weui-RED:#fa5151;--weui-REDORANGE:#ff6146;--weui-ORANGE:#fa9d3b;--weui-YELLOW:#ffc300;--weui-GREEN:#91d300;--weui-LIGHTGREEN:#95ec69;--weui-BRAND:#07c160;--weui-BLUE:#10aeff;--weui-INDIGO:#1485ee;--weui-PURPLE:#6467f0;--weui-WHITE:#fff;--weui-LINK:#576b95;--weui-TEXTGREEN:#06ae56;--weui-FG:#000;--weui-BG:#fff;--weui-TAG-TEXT-RED:rgba(250,81,81,0.6);--weui-TAG-BACKGROUND-RED:rgba(250,81,81,0.1);--weui-TAG-TEXT-ORANGE:#fa9d3b;--weui-TAG-BACKGROUND-ORANGE:rgba(250,157,59,0.1);--weui-TAG-TEXT-GREEN:#06ae56;--weui-TAG-BACKGROUND-GREEN:rgba(6,174,86,0.1);--weui-TAG-TEXT-BLUE:#10aeff;--weui-TAG-BACKGROUND-BLUE:rgba(16,174,255,0.1);--weui-TAG-TEXT-BLACK:rgba(0,0,0,0.5);--weui-TAG-BACKGROUND-BLACK:rgba(0,0,0,0.05)}@media(prefers-color-scheme:dark){.wx-root:not([data-weui-theme='light']),body:not([data-weui-theme='light']){--weui-BG-0:#111;--weui-BG-1:#1e1e1e;--weui-BG-2:#191919;--weui-BG-3:#202020;--weui-BG-4:#404040;--weui-BG-5:#2c2c2c;--weui-FG-0:rgba(255,255,255,0.8);--weui-FG-HALF:rgba(255,255,255,0.6);--weui-FG-1:rgba(255,255,255,0.5);--weui-FG-2:rgba(255,255,255,0.3);--weui-FG-3:rgba(255,255,255,0.1);--weui-FG-4:rgba(255,255,255,0.15);--weui-FG-5:rgba(255,255,255,0.1);--weui-RED:#fa5151;--weui-REDORANGE:#ff6146;--weui-ORANGE:#c87d2f;--weui-YELLOW:#cc9c00;--weui-GREEN:#74a800;--weui-LIGHTGREEN:#3eb575;--weui-BRAND:#07c160;--weui-BLUE:#10aeff;--weui-INDIGO:#1196ff;--weui-PURPLE:#8183ff;--weui-WHITE:rgba(255,255,255,0.8);--weui-LINK:#7d90a9;--weui-TEXTGREEN:#259c5c;--weui-FG:#fff;--weui-BG:#000;--weui-TAG-TEXT-RED:rgba(250,81,81,0.6);--weui-TAG-BACKGROUND-RED:rgba(250,81,81,0.1);--weui-TAG-TEXT-ORANGE:rgba(250,157,59,0.6);--weui-TAG-BACKGROUND-ORANGE:rgba(250,157,59,0.1);--weui-TAG-TEXT-GREEN:rgba(6,174,86,0.6);--weui-TAG-BACKGROUND-GREEN:rgba(6,174,86,0.1);--weui-TAG-TEXT-BLUE:rgba(16,174,255,0.6);--weui-TAG-BACKGROUND-BLUE:rgba(16,174,255,0.1);--weui-TAG-TEXT-BLACK:rgba(255,255,255,0.5);--weui-TAG-BACKGROUND-BLACK:rgba(255,255,255,0.05)}}.wx-root[data-weui-theme='dark'],body[data-weui-theme='dark']{--weui-BG-0:#111;--weui-BG-1:#1e1e1e;--weui-BG-2:#191919;--weui-BG-3:#202020;--weui-BG-4:#404040;--weui-BG-5:#2c2c2c;--weui-FG-0:rgba(255,255,255,0.8);--weui-FG-HALF:rgba(255,255,255,0.6);--weui-FG-1:rgba(255,255,255,0.5);--weui-FG-2:rgba(255,255,255,0.3);--weui-FG-3:rgba(255,255,255,0.1);--weui-FG-4:rgba(255,255,255,0.15);--weui-FG-5:rgba(255,255,255,0.1);--weui-RED:#fa5151;--weui-REDORANGE:#ff6146;--weui-ORANGE:#c87d2f;--weui-YELLOW:#cc9c00;--weui-GREEN:#74a800;--weui-LIGHTGREEN:#3eb575;--weui-BRAND:#07c160;--weui-BLUE:#10aeff;--weui-INDIGO:#1196ff;--weui-PURPLE:#8183ff;--weui-WHITE:rgba(255,255,255,0.8);--weui-LINK:#7d90a9;--weui-TEXTGREEN:#259c5c;--weui-FG:#fff;--weui-BG:#000;--weui-TAG-TEXT-RED:rgba(250,81,81,0.6);--weui-TAG-BACKGROUND-RED:rgba(250,81,81,0.1);--weui-TAG-TEXT-ORANGE:rgba(250,157,59,0.6);--weui-TAG-BACKGROUND-ORANGE:rgba(250,157,59,0.1);--weui-TAG-TEXT-GREEN:rgba(6,174,86,0.6);--weui-TAG-BACKGROUND-GREEN:rgba(6,174,86,0.1);--weui-TAG-TEXT-BLUE:rgba(16,174,255,0.6);--weui-TAG-BACKGROUND-BLUE:rgba(16,174,255,0.1);--weui-TAG-TEXT-BLACK:rgba(255,255,255,0.5);--weui-TAG-BACKGROUND-BLACK:rgba(255,255,255,0.05)}.wx-root[data-weui-mode='care'],body[data-weui-mode='care']{--weui-BG-0:#ededed;--weui-BG-1:#f7f7f7;--weui-BG-2:#fff;--weui-BG-3:#f7f7f7;--weui-BG-4:#4c4c4c;--weui-BG-5:#fff;--weui-FG-0:#000;--weui-FG-HALF:#000;--weui-FG-1:rgba(0,0,0,0.6);--weui-FG-2:rgba(0,0,0,0.42);--weui-FG-3:rgba(0,0,0,0.1);--weui-FG-4:rgba(0,0,0,0.15);--weui-FG-5:rgba(0,0,0,0.05);--weui-RED:#dc3636;--weui-REDORANGE:#ff6146;--weui-ORANGE:#e17719;--weui-YELLOW:#bb8e00;--weui-GREEN:#4f8400;--weui-LIGHTGREEN:#2e8800;--weui-BRAND:#018942;--weui-BLUE:#007dbb;--weui-INDIGO:#0075e2;--weui-PURPLE:#6265f1;--weui-WHITE:#fff;--weui-LINK:#576b95;--weui-TEXTGREEN:#06ae56;--weui-FG:#000;--weui-BG:#fff;--weui-TAG-TEXT-RED:rgba(250,81,81,0.6);--weui-TAG-BACKGROUND-RED:rgba(250,81,81,0.1);--weui-TAG-TEXT-ORANGE:#e17719;--weui-TAG-BACKGROUND-ORANGE:rgba(225,119,25,0.1);--weui-TAG-TEXT-GREEN:#06ae56;--weui-TAG-BACKGROUND-GREEN:rgba(6,174,86,0.1);--weui-TAG-TEXT-BLUE:#007dbb;--weui-TAG-BACKGROUND-BLUE:rgba(0,125,187,0.1);--weui-TAG-TEXT-BLACK:rgba(0,0,0,0.5);--weui-TAG-BACKGROUND-BLACK:rgba(0,0,0,0.05)}@media(prefers-color-scheme:dark){.wx-root[data-weui-mode='care']:not([data-weui-theme='light']),body[data-weui-mode='care']:not([data-weui-theme='light']){--weui-BG-0:#111;--weui-BG-1:#1e1e1e;--weui-BG-2:#191919;--weui-BG-3:#202020;--weui-BG-4:#404040;--weui-BG-5:#2c2c2c;--weui-FG-0:rgba(255,255,255,0.85);--weui-FG-HALF:rgba(255,255,255,0.65);--weui-FG-1:rgba(255,255,255,0.55);--weui-FG-2:rgba(255,255,255,0.35);--weui-FG-3:rgba(255,255,255,0.1);--weui-FG-4:rgba(255,255,255,0.15);--weui-FG-5:rgba(255,255,255,0.1);--weui-RED:#fa5151;--weui-REDORANGE:#ff6146;--weui-ORANGE:#c87d2f;--weui-YELLOW:#cc9c00;--weui-GREEN:#74a800;--weui-LIGHTGREEN:#3eb575;--weui-BRAND:#07c160;--weui-BLUE:#10aeff;--weui-INDIGO:#1196ff;--weui-PURPLE:#8183ff;--weui-WHITE:rgba(255,255,255,0.8);--weui-LINK:#7d90a9;--weui-TEXTGREEN:#259c5c;--weui-FG:#fff;--weui-BG:#000;--weui-TAG-TEXT-RED:rgba(250,81,81,0.6);--weui-TAG-BACKGROUND-RED:rgba(250,81,81,0.1);--weui-TAG-TEXT-ORANGE:rgba(250,157,59,0.6);--weui-TAG-BACKGROUND-ORANGE:rgba(250,157,59,0.1);--weui-TAG-TEXT-GREEN:rgba(6,174,86,0.6);--weui-TAG-BACKGROUND-GREEN:rgba(6,174,86,0.1);--weui-TAG-TEXT-BLUE:rgba(16,174,255,0.6);--weui-TAG-BACKGROUND-BLUE:rgba(16,174,255,0.1);--weui-TAG-TEXT-BLACK:rgba(255,255,255,0.5);--weui-TAG-BACKGROUND-BLACK:rgba(255,255,255,0.05)}}.wx-root[data-weui-mode='care'][data-weui-theme='dark'],body[data-weui-mode='care'][data-weui-theme='dark']{--weui-BG-0:#111;--weui-BG-1:#1e1e1e;--weui-BG-2:#191919;--weui-BG-3:#202020;--weui-BG-4:#404040;--weui-BG-5:#2c2c2c;--weui-FG-0:rgba(255,255,255,0.85);--weui-FG-HALF:rgba(255,255,255,0.65);--weui-FG-1:rgba(255,255,255,0.55);--weui-FG-2:rgba(255,255,255,0.35);--weui-FG-3:rgba(255,255,255,0.1);--weui-FG-4:rgba(255,255,255,0.15);--weui-FG-5:rgba(255,255,255,0.1);--weui-RED:#fa5151;--weui-REDORANGE:#ff6146;--weui-ORANGE:#c87d2f;--weui-YELLOW:#cc9c00;--weui-GREEN:#74a800;--weui-LIGHTGREEN:#3eb575;--weui-BRAND:#07c160;--weui-BLUE:#10aeff;--weui-INDIGO:#1196ff;--weui-PURPLE:#8183ff;--weui-WHITE:rgba(255,255,255,0.8);--weui-LINK:#7d90a9;--weui-TEXTGREEN:#259c5c;--weui-FG:#fff;--weui-BG:#000;--weui-TAG-TEXT-RED:rgba(250,81,81,0.6);--weui-TAG-BACKGROUND-RED:rgba(250,81,81,0.1);--weui-TAG-TEXT-ORANGE:rgba(250,157,59,0.6);--weui-TAG-BACKGROUND-ORANGE:rgba(250,157,59,0.1);--weui-TAG-TEXT-GREEN:rgba(6,174,86,0.6);--weui-TAG-BACKGROUND-GREEN:rgba(6,174,86,0.1);--weui-TAG-TEXT-BLUE:rgba(16,174,255,0.6);--weui-TAG-BACKGROUND-BLUE:rgba(16,174,255,0.1);--weui-TAG-TEXT-BLACK:rgba(255,255,255,0.5);--weui-TAG-BACKGROUND-BLACK:rgba(255,255,255,0.05)}.wx-root,body{--weui-BG-COLOR-ACTIVE:#ececec}.wx-root[data-weui-theme='dark'],body[data-weui-theme='dark']{--weui-BG-COLOR-ACTIVE:#373737}@media(prefers-color-scheme:dark){.wx-root:not([data-weui-theme='light']),body:not([data-weui-theme='light']){--weui-BG-COLOR-ACTIVE:#373737}}body,.wx-root,page{--weui-BTN-HEIGHT:48;--weui-BTN-HEIGHT-MEDIUM:40;--weui-BTN-HEIGHT-SMALL:32}.wx-root,body{--weui-BTN-ACTIVE-MASK:rgba(0,0,0,0.1)}.wx-root[data-weui-theme='dark'],body[data-weui-theme='dark']{--weui-BTN-ACTIVE-MASK:rgba(255,255,255,0.1)}@media(prefers-color-scheme:dark){.wx-root:not([data-weui-theme='light']),body:not([data-weui-theme='light']){--weui-BTN-ACTIVE-MASK:rgba(255,255,255,0.1)}}.wx-root,body{--weui-BTN-DEFAULT-ACTIVE-BG:#e6e6e6}.wx-root[data-weui-theme='dark'],body[data-weui-theme='dark']{--weui-BTN-DEFAULT-ACTIVE-BG:rgba(255,255,255,0.126)}@media(prefers-color-scheme:dark){.wx-root:not([data-weui-theme='light']),body:not([data-weui-theme='light']){--weui-BTN-DEFAULT-ACTIVE-BG:rgba(255,255,255,0.126)}}.wx-root,body{--weui-DIALOG-LINE-COLOR:rgba(0,0,0,0.1)}.wx-root[data-weui-theme='dark'],body[data-weui-theme='dark']{--weui-DIALOG-LINE-COLOR:rgba(255,255,255,0.1)}@media(prefers-color-scheme:dark){.wx-root:not([data-weui-theme='light']),body:not([data-weui-theme='light']){--weui-DIALOG-LINE-COLOR:rgba(255,255,255,0.1)}}.weui-hidden_abs{opacity:0;position:absolute;width:1px;height:1px;overflow:hidden}.weui-a11y_ref{display:none}.weui-hidden-space:empty:before{content:\"\\00A0\";position:absolute;width:1px;height:1px;overflow:hidden}.weui-a11y-combo{position:relative}.weui-a11y-combo__helper{opacity:0;position:absolute;width:100%;height:100%;overflow:hidden}.weui-a11y-combo__content{position:relative;z-index:1}.weui-wa-hotarea-el{position:absolute;top:50%;left:50%;-webkit-transform:translate(-50%,-50%);transform:translate(-50%,-50%);min-width:44px;min-height:44px;width:100%;height:100%}.weui-wa-hotarea-el__wrp,.weui-wa-hotarea,.weui-wa-hotarea_before{position:relative}.weui-wa-hotarea-el__wrp a,.weui-wa-hotarea a,.weui-wa-hotarea_before a,.weui-wa-hotarea-el__wrp button,.weui-wa-hotarea button,.weui-wa-hotarea_before button,.weui-wa-hotarea-el__wrp navigator,.weui-wa-hotarea navigator,.weui-wa-hotarea_before navigator{position:relative;z-index:1}.weui-wa-hotarea_before:before,.weui-wa-hotarea:after{content:\"\";pointer-events:auto;position:absolute;top:50%;left:50%;-webkit-transform:translate(-50%,-50%);transform:translate(-50%,-50%);min-width:44px;min-height:44px;width:100%;height:100%}.test{color:red}body .weui-hidden_abs,body .aria_hidden_abs{position:absolute;opacity:0;overflow:hidden;left:auto;width:1px;height:1px}body .weui-a11y_ref{display:none}body .weui-wa-hotarea_before:before,body .weui-wa-hotarea:after{pointer-events:auto}body .weui-wa-hotarea-el__wrp button{position:relative;z-index:1}\n",
      "  </style>\n",
      "  <script nonce=\"\" src=\"//res.wx.qq.com/mmbizwap/zh_CN/htmledition/js/lib/wa-helper.min74f27e.js\" type=\"text/javascript\">\n",
      "  </script>\n",
      "  <script nonce=\"\" type=\"text/javascript\">\n",
      "  </script>\n",
      "  <span aria-hidden=\"true\" class=\"weui-a11y_ref\" id=\"js_a11y_colon\" style=\"display:none\">\n",
      "   ：\n",
      "  </span>\n",
      "  <span aria-hidden=\"true\" class=\"weui-a11y_ref\" id=\"js_a11y_comma\" style=\"display:none\">\n",
      "   ，\n",
      "  </span>\n",
      "  <span aria-hidden=\"true\" class=\"weui-a11y_ref\" id=\"js_a11y_period\" style=\"display:none\">\n",
      "   。\n",
      "  </span>\n",
      "  <span aria-hidden=\"true\" class=\"weui-a11y_ref\" id=\"js_a11y_space\" style=\"display:none\">\n",
      "  </span>\n",
      "  <span aria-hidden=\"true\" class=\"weui-a11y_ref\" id=\"js_a11y_type_video\" style=\"display:none\">\n",
      "   视频\n",
      "  </span>\n",
      "  <span aria-hidden=\"true\" class=\"weui-a11y_ref\" id=\"js_a11y_type_weapp\" style=\"display:none\">\n",
      "   小程序\n",
      "  </span>\n",
      "  <span aria-hidden=\"true\" class=\"weui-a11y_ref\" id=\"js_a11y_zan_btn_txt\" style=\"display:none\">\n",
      "   赞\n",
      "  </span>\n",
      "  <span aria-hidden=\"true\" class=\"weui-a11y_ref\" id=\"js_a11y_zan_btn_tips\" style=\"display:none\">\n",
      "   ，轻点两下取消赞\n",
      "  </span>\n",
      "  <span aria-hidden=\"true\" class=\"weui-a11y_ref\" id=\"js_a11y_like_btn_txt\" style=\"display:none\">\n",
      "   在看\n",
      "  </span>\n",
      "  <span aria-hidden=\"true\" class=\"weui-a11y_ref\" id=\"js_a11y_like_btn_tips\" style=\"display:none\">\n",
      "   ，轻点两下取消在看\n",
      "  </span>\n",
      "  <script nonce=\"\">\n",
      "   var __DEBUGINFO = {\n",
      "\t\tdebug_js: \"//res.wx.qq.com/mmbizwap/zh_CN/htmledition/js/biz_wap/debug/console74f27e.js\",\n",
      "\t\tsafe_js: \"//res.wx.qq.com/mmbizwap/zh_CN/htmledition/js/biz_wap/safe/moonsafe74f27e.js\",\n",
      "\t\tres_list: []\n",
      "\t};\n",
      "  </script>\n",
      "  <script nonce=\"\" type=\"text/javascript\">\n",
      "   (function () {\n",
      "\t\tvar totalCount = 0,\n",
      "\t\t\tfinishCount = 0;\n",
      "\n",
      "\t\tfunction _loadVConsolePlugin() {\n",
      "\t\t\twindow.vConsole = new window.VConsole();\n",
      "\t\t\twhile (window.vConsolePlugins.length > 0) {\n",
      "\t\t\t\tvar p = window.vConsolePlugins.shift();\n",
      "\t\t\t\twindow.vConsole.addPlugin(p);\n",
      "\t\t\t}\n",
      "\t\t\t\n",
      "\t\t\tif (!window.vConsole.isInited) {\n",
      "\t\t\t\twindow.vConsole._render();\n",
      "\t\t\t\twindow.vConsole._mockTap();\n",
      "\t\t\t\twindow.vConsole._bindEvent();\n",
      "\t\t\t\twindow.vConsole._autoRun();\n",
      "\t\t\t}\n",
      "\t\t}\n",
      "\n",
      "\t\tfunction _addScript(uri, cb) {\n",
      "\t\t\ttotalCount++;\n",
      "\t\t\tvar node = document.createElement('SCRIPT');\n",
      "\t\t\tnode.type = 'text/javascript';\n",
      "\t\t\tnode.src = uri;\n",
      "\t\t\tnode.setAttribute('nonce', '');\n",
      "\t\t\tif (cb) {\n",
      "\t\t\t\tnode.onload = cb;\n",
      "\t\t\t}\n",
      "\t\t\tdocument.getElementsByTagName('head')[0].appendChild(node);\n",
      "\t\t}\n",
      "\t\tif (\n",
      "\t\t\t(document.cookie && document.cookie.indexOf('vconsole_open=1') > -1)\n",
      "\t\t\t|| location.href.indexOf('vconsole=1') > -1\n",
      "\t\t) {\n",
      "\t\t\twindow.vConsolePlugins = [];\n",
      "\t\t\t_addScript('//res.wx.qq.com/mmbizwap/zh_CN/htmledition/js/vconsole/3.2.2/vconsole.min74f27c.js', function () {\n",
      "\t\t\t\t\n",
      "\t\t\t\t_addScript('//res.wx.qq.com/mmbizwap/zh_CN/htmledition/js/vconsole/plugin/vconsole-mpopt/1.0.1/vconsole-mpopt74f27c.js', _loadVConsolePlugin);\n",
      "\t\t\t});\n",
      "\t\t}\n",
      "\t\tif (document.cookie && document.cookie.indexOf('__xweb_remote_debug_device_token__') > -1) {\n",
      "\t\t\t_addScript('https://mp.weixin.qq.com/mmbizappmsg/zh_CN/htmledition/js/scripts/mprdev-0.2.5.js', function () {\n",
      "\t\t\t\t_addScript('https://mp.weixin.qq.com/mmbizappmsg/zh_CN/htmledition/js/scripts/xwebrd-0.0.2.js');\n",
      "\t\t\t});\n",
      "\t\t}\n",
      "\n",
      "\t\t\n",
      "\t\ttry {\n",
      "\t\t\tvar adIframeUrl = localStorage.getItem('__WXLS_ad_iframe_url');\n",
      "\t\t\tif (window === top) {\n",
      "\t\t\t\tif (adIframeUrl) {\n",
      "\t\t\t\t\tif (navigator.userAgent.indexOf('iPhone') > -1) {\n",
      "\t\t\t\t\t\tvar img = new Image();\n",
      "\t\t\t\t\t\timg.src = adIframeUrl;\n",
      "\t\t\t\t\t} else {\n",
      "\t\t\t\t\t\tvar link = document.createElement('link');\n",
      "\t\t\t\t\t\tlink.rel = 'prefetch';\n",
      "\t\t\t\t\t\tlink.href = adIframeUrl;\n",
      "\t\t\t\t\t\tdocument.getElementsByTagName('head')[0].appendChild(link);\n",
      "\t\t\t\t\t}\n",
      "\t\t\t\t}\n",
      "\t\t\t}\n",
      "\t\t} catch (err) {\n",
      "\n",
      "\t\t}\n",
      "\n",
      "\t})();\n",
      "  </script>\n",
      "  <script>\n",
      "   window.__moon_host = 'res.wx.qq.com';window.moon_map = {\"biz_wap/utils/ajax_wx.js\":\"//res.wx.qq.com/mmbizwap/zh_CN/htmledition/js/biz_wap/utils/ajax_wx74f27e.js\",\"biz_common/utils/respTypes.js\":\"//res.wx.qq.com/mmbizwap/zh_CN/htmledition/js/biz_common/utils/respTypes74f27e.js\",\"biz_common/utils/url/parse.js\":\"//res.wx.qq.com/mmbizwap/zh_CN/htmledition/js/biz_common/utils/url/parse74f27e.js\",\"biz_common/utils/string/html.js\":\"//res.wx.qq.com/mmbizwap/zh_CN/htmledition/js/biz_common/utils/string/html74f27e.js\",\"common/color/dark.js\":\"//res.wx.qq.com/mmbizwap/zh_CN/htmledition/js/common/color/dark74f27e.js\",\"common/color/light.js\":\"//res.wx.qq.com/mmbizwap/zh_CN/htmledition/js/common/color/light74f27e.js\",\"biz_wap/utils/mmversion.js\":\"//res.wx.qq.com/mmbizwap/zh_CN/htmledition/js/biz_wap/utils/mmversion74f27e.js\",\"biz_wap/jsapi/mpapp_core.js\":\"//res.wx.qq.com/mmbizwap/zh_CN/htmledition/js/biz_wap/jsapi/mpapp_core74f27e.js\",\"complain/tips.js\":\"//res.wx.qq.com/mmbizwap/zh_CN/htmledition/js/complain/tips74f27e.js\",\"biz_common/dom/event.js\":\"//res.wx.qq.com/mmbizwap/zh_CN/htmledition/js/biz_common/dom/event74f27e.js\",\"biz_wap/utils/ajax.js\":\"//res.wx.qq.com/mmbizwap/zh_CN/htmledition/js/biz_wap/utils/ajax74f27e.js\",\"common/color/background_color.js\":\"//res.wx.qq.com/mmbizwap/zh_CN/htmledition/js/common/color/background_color74f27e.js\",\"biz_wap/jsapi/core.js\":\"//res.wx.qq.com/mmbizwap/zh_CN/htmledition/js/biz_wap/jsapi/core74f27e.js\",\"secitptpage/template/verify.js\":\"//res.wx.qq.com/mmbizwap/zh_CN/htmledition/js/secitptpage/template/verify74f27e.js\"};\n",
      "  </script>\n",
      "  <script type=\"text/javascript\">\n",
      "   window.__wxgspeeds={}; window.__wxgspeeds.moonloadtime=+new Date()\n",
      "  </script>\n",
      "  <script src=\"//res.wx.qq.com/mmbizwap/zh_CN/htmledition/js/biz_wap/moon74f27e.js\" type=\"text/javascript\">\n",
      "  </script>\n",
      "  <script src=\"https://captcha.gtimg.com/TCaptcha.js\" type=\"text/javascript\">\n",
      "  </script>\n",
      "  <script type=\"text/javascript\">\n",
      "   window.cgiData = {\n",
      "    register_code : \"4\" * 1,\n",
      "    target_url : \"https://mp.weixin.qq.com/s/KpbhNIiGKJX8JIzdKeIO-w\",\n",
      "    cap_appid : \"2003810213\",\n",
      "    cap_sid : \"4431087697645435134\",\n",
      "    poc_sid : \"HNmq6Gejv20Nap-EmknhTZNmsQ6y0TjFSsG5w12P\",\n",
      "    timeout_ms : \"120000\" * 1,\n",
      "    poc_token : \"HNmq6GejVaaLHvmr2X0bVOKn7uIWEuq5axS7NIzI\",\n",
      "}\n",
      "console.log('window.cgiData', window.cgiData);\n",
      "seajs.use('secitptpage/template/verify.js')\n",
      "  </script>\n",
      " </body>\n",
      "</html>\n",
      "\n"
     ]
    }
   ],
   "source": [
    "from bs4 import BeautifulSoup\n",
    "import requests\n",
    "\n",
    "url = requests.get(\"https://mp.weixin.qq.com/s/KpbhNIiGKJX8JIzdKeIO-w\")\n",
    "\n",
    "page = url.content\n",
    "\n",
    "soup = BeautifulSoup(page, \"html.parser\")\n",
    "\n",
    "print(soup.prettify())"
   ]
  },
  {
   "cell_type": "code",
   "execution_count": 9,
   "metadata": {},
   "outputs": [
    {
     "name": "stdout",
     "output_type": "stream",
     "text": [
      "[<script>\n",
      "        (() => {\n",
      "            \n",
      "            const ua = navigator.userAgent;\n",
      "            const noMobile = !(/(iPhone|iPad|iPod|iOS)/i.test(ua) || /Windows\\sPhone/i.test(ua) || /(Android)/i.test(ua));\n",
      "            setTimeout(() => {\n",
      "                noMobile && document.title === '' && (document.title = '微信公众平台');\n",
      "            }, 1000);\n",
      "        })();\n",
      "        </script>, <script type=\"text/javascript\">\n",
      "</script>, <script type=\"text/javascript\">\n",
      "var PAGE_MID='mmbizwap:secitptpage/verify.html';\n",
      "</script>, <script nonce=\"\" src=\"//res.wx.qq.com/mmbizwap/zh_CN/htmledition/js/lib/wa-helper.min74f27e.js\" type=\"text/javascript\"></script>, <script nonce=\"\" type=\"text/javascript\">\n",
      "</script>, <script nonce=\"\">\n",
      "\tvar __DEBUGINFO = {\n",
      "\t\tdebug_js: \"//res.wx.qq.com/mmbizwap/zh_CN/htmledition/js/biz_wap/debug/console74f27e.js\",\n",
      "\t\tsafe_js: \"//res.wx.qq.com/mmbizwap/zh_CN/htmledition/js/biz_wap/safe/moonsafe74f27e.js\",\n",
      "\t\tres_list: []\n",
      "\t};\n",
      "</script>, <script nonce=\"\" type=\"text/javascript\">\n",
      "\t(function () {\n",
      "\t\tvar totalCount = 0,\n",
      "\t\t\tfinishCount = 0;\n",
      "\n",
      "\t\tfunction _loadVConsolePlugin() {\n",
      "\t\t\twindow.vConsole = new window.VConsole();\n",
      "\t\t\twhile (window.vConsolePlugins.length > 0) {\n",
      "\t\t\t\tvar p = window.vConsolePlugins.shift();\n",
      "\t\t\t\twindow.vConsole.addPlugin(p);\n",
      "\t\t\t}\n",
      "\t\t\t\n",
      "\t\t\tif (!window.vConsole.isInited) {\n",
      "\t\t\t\twindow.vConsole._render();\n",
      "\t\t\t\twindow.vConsole._mockTap();\n",
      "\t\t\t\twindow.vConsole._bindEvent();\n",
      "\t\t\t\twindow.vConsole._autoRun();\n",
      "\t\t\t}\n",
      "\t\t}\n",
      "\n",
      "\t\tfunction _addScript(uri, cb) {\n",
      "\t\t\ttotalCount++;\n",
      "\t\t\tvar node = document.createElement('SCRIPT');\n",
      "\t\t\tnode.type = 'text/javascript';\n",
      "\t\t\tnode.src = uri;\n",
      "\t\t\tnode.setAttribute('nonce', '');\n",
      "\t\t\tif (cb) {\n",
      "\t\t\t\tnode.onload = cb;\n",
      "\t\t\t}\n",
      "\t\t\tdocument.getElementsByTagName('head')[0].appendChild(node);\n",
      "\t\t}\n",
      "\t\tif (\n",
      "\t\t\t(document.cookie && document.cookie.indexOf('vconsole_open=1') > -1)\n",
      "\t\t\t|| location.href.indexOf('vconsole=1') > -1\n",
      "\t\t) {\n",
      "\t\t\twindow.vConsolePlugins = [];\n",
      "\t\t\t_addScript('//res.wx.qq.com/mmbizwap/zh_CN/htmledition/js/vconsole/3.2.2/vconsole.min74f27c.js', function () {\n",
      "\t\t\t\t\n",
      "\t\t\t\t_addScript('//res.wx.qq.com/mmbizwap/zh_CN/htmledition/js/vconsole/plugin/vconsole-mpopt/1.0.1/vconsole-mpopt74f27c.js', _loadVConsolePlugin);\n",
      "\t\t\t});\n",
      "\t\t}\n",
      "\t\tif (document.cookie && document.cookie.indexOf('__xweb_remote_debug_device_token__') > -1) {\n",
      "\t\t\t_addScript('https://mp.weixin.qq.com/mmbizappmsg/zh_CN/htmledition/js/scripts/mprdev-0.2.5.js', function () {\n",
      "\t\t\t\t_addScript('https://mp.weixin.qq.com/mmbizappmsg/zh_CN/htmledition/js/scripts/xwebrd-0.0.2.js');\n",
      "\t\t\t});\n",
      "\t\t}\n",
      "\n",
      "\t\t\n",
      "\t\ttry {\n",
      "\t\t\tvar adIframeUrl = localStorage.getItem('__WXLS_ad_iframe_url');\n",
      "\t\t\tif (window === top) {\n",
      "\t\t\t\tif (adIframeUrl) {\n",
      "\t\t\t\t\tif (navigator.userAgent.indexOf('iPhone') > -1) {\n",
      "\t\t\t\t\t\tvar img = new Image();\n",
      "\t\t\t\t\t\timg.src = adIframeUrl;\n",
      "\t\t\t\t\t} else {\n",
      "\t\t\t\t\t\tvar link = document.createElement('link');\n",
      "\t\t\t\t\t\tlink.rel = 'prefetch';\n",
      "\t\t\t\t\t\tlink.href = adIframeUrl;\n",
      "\t\t\t\t\t\tdocument.getElementsByTagName('head')[0].appendChild(link);\n",
      "\t\t\t\t\t}\n",
      "\t\t\t\t}\n",
      "\t\t\t}\n",
      "\t\t} catch (err) {\n",
      "\n",
      "\t\t}\n",
      "\n",
      "\t})();\n",
      "</script>, <script>window.__moon_host = 'res.wx.qq.com';window.moon_map = {\"biz_wap/utils/ajax_wx.js\":\"//res.wx.qq.com/mmbizwap/zh_CN/htmledition/js/biz_wap/utils/ajax_wx74f27e.js\",\"biz_common/utils/respTypes.js\":\"//res.wx.qq.com/mmbizwap/zh_CN/htmledition/js/biz_common/utils/respTypes74f27e.js\",\"biz_common/utils/url/parse.js\":\"//res.wx.qq.com/mmbizwap/zh_CN/htmledition/js/biz_common/utils/url/parse74f27e.js\",\"biz_common/utils/string/html.js\":\"//res.wx.qq.com/mmbizwap/zh_CN/htmledition/js/biz_common/utils/string/html74f27e.js\",\"common/color/dark.js\":\"//res.wx.qq.com/mmbizwap/zh_CN/htmledition/js/common/color/dark74f27e.js\",\"common/color/light.js\":\"//res.wx.qq.com/mmbizwap/zh_CN/htmledition/js/common/color/light74f27e.js\",\"biz_wap/utils/mmversion.js\":\"//res.wx.qq.com/mmbizwap/zh_CN/htmledition/js/biz_wap/utils/mmversion74f27e.js\",\"biz_wap/jsapi/mpapp_core.js\":\"//res.wx.qq.com/mmbizwap/zh_CN/htmledition/js/biz_wap/jsapi/mpapp_core74f27e.js\",\"complain/tips.js\":\"//res.wx.qq.com/mmbizwap/zh_CN/htmledition/js/complain/tips74f27e.js\",\"biz_common/dom/event.js\":\"//res.wx.qq.com/mmbizwap/zh_CN/htmledition/js/biz_common/dom/event74f27e.js\",\"biz_wap/utils/ajax.js\":\"//res.wx.qq.com/mmbizwap/zh_CN/htmledition/js/biz_wap/utils/ajax74f27e.js\",\"common/color/background_color.js\":\"//res.wx.qq.com/mmbizwap/zh_CN/htmledition/js/common/color/background_color74f27e.js\",\"biz_wap/jsapi/core.js\":\"//res.wx.qq.com/mmbizwap/zh_CN/htmledition/js/biz_wap/jsapi/core74f27e.js\",\"secitptpage/template/verify.js\":\"//res.wx.qq.com/mmbizwap/zh_CN/htmledition/js/secitptpage/template/verify74f27e.js\"};</script>, <script type=\"text/javascript\">window.__wxgspeeds={}; window.__wxgspeeds.moonloadtime=+new Date()</script>, <script src=\"//res.wx.qq.com/mmbizwap/zh_CN/htmledition/js/biz_wap/moon74f27e.js\" type=\"text/javascript\"></script>, <script src=\"https://captcha.gtimg.com/TCaptcha.js\" type=\"text/javascript\"></script>, <script type=\"text/javascript\">\n",
      "window.cgiData = {\n",
      "    register_code : \"4\" * 1,\n",
      "    target_url : \"https://mp.weixin.qq.com/s/KpbhNIiGKJX8JIzdKeIO-w\",\n",
      "    cap_appid : \"2003810213\",\n",
      "    cap_sid : \"4431087697645435134\",\n",
      "    poc_sid : \"HNmq6Gejv20Nap-EmknhTZNmsQ6y0TjFSsG5w12P\",\n",
      "    timeout_ms : \"120000\" * 1,\n",
      "    poc_token : \"HNmq6GejVaaLHvmr2X0bVOKn7uIWEuq5axS7NIzI\",\n",
      "}\n",
      "console.log('window.cgiData', window.cgiData);\n",
      "seajs.use('secitptpage/template/verify.js')\n",
      "</script>]\n"
     ]
    }
   ],
   "source": [
    "script_tags = soup.select('script')\n",
    "print(script_tags)"
   ]
  },
  {
   "cell_type": "code",
   "execution_count": 10,
   "metadata": {},
   "outputs": [
    {
     "name": "stdout",
     "output_type": "stream",
     "text": [
      "[<div class=\"weui-msg\">\n",
      "<div class=\"top_tips warning\" id=\"tips\" style=\"display:none;\"></div>\n",
      "<div class=\"weui-msg__icon-area\">\n",
      "<i class=\"weui-icon-info-circle weui-icon_msg\"></i>\n",
      "</div>\n",
      "<div class=\"weui-msg__text-area pc-area\">\n",
      "<h2 class=\"weui-msg__title\">环境异常</h2>\n",
      "<p class=\"weui-msg__desc\">当前环境异常，完成验证后即可继续访问。</p>\n",
      "</div>\n",
      "<div class=\"weui-msg__opr-area\">\n",
      "<p class=\"weui-btn-area\">\n",
      "<a class=\"weui-btn weui-btn_primary\" id=\"js_verify\">去验证</a>\n",
      "</p>\n",
      "</div>\n",
      "</div>, <div class=\"top_tips warning\" id=\"tips\" style=\"display:none;\"></div>, <div class=\"weui-msg__icon-area\">\n",
      "<i class=\"weui-icon-info-circle weui-icon_msg\"></i>\n",
      "</div>, <div class=\"weui-msg__text-area pc-area\">\n",
      "<h2 class=\"weui-msg__title\">环境异常</h2>\n",
      "<p class=\"weui-msg__desc\">当前环境异常，完成验证后即可继续访问。</p>\n",
      "</div>, <div class=\"weui-msg__opr-area\">\n",
      "<p class=\"weui-btn-area\">\n",
      "<a class=\"weui-btn weui-btn_primary\" id=\"js_verify\">去验证</a>\n",
      "</p>\n",
      "</div>]\n"
     ]
    }
   ],
   "source": [
    "div_tags = soup.select('div')\n",
    "print(div_tags)"
   ]
  },
  {
   "cell_type": "code",
   "execution_count": 11,
   "metadata": {},
   "outputs": [
    {
     "name": "stdout",
     "output_type": "stream",
     "text": [
      "Video URL: None\n"
     ]
    }
   ],
   "source": [
    "video_url = None\n",
    "for tag in soup.find_all(src=True):\n",
    "    if \".mp4\" in tag[\"src\"]:\n",
    "        video_url = tag[\"src\"]\n",
    "        break\n",
    "\n",
    "print(\"Video URL:\", video_url)"
   ]
  },
  {
   "cell_type": "code",
   "execution_count": 12,
   "metadata": {},
   "outputs": [
    {
     "name": "stdout",
     "output_type": "stream",
     "text": [
      "No source tag found.\n"
     ]
    }
   ],
   "source": [
    "source = soup.find(\"source\")\n",
    "if source:\n",
    "    video_url = source.get(\"src\")\n",
    "    print(\"Video URL from source:\", video_url)\n",
    "else:\n",
    "    print(\"No source tag found.\")\n",
    "# Extracting the video URL from the <video> tag"
   ]
  },
  {
   "cell_type": "code",
   "execution_count": 13,
   "metadata": {},
   "outputs": [
    {
     "name": "stdout",
     "output_type": "stream",
     "text": [
      "[]\n"
     ]
    }
   ],
   "source": [
    "template_tags = soup.select(\"template\")\n",
    "print(template_tags)"
   ]
  },
  {
   "cell_type": "code",
   "execution_count": 14,
   "metadata": {},
   "outputs": [
    {
     "name": "stdout",
     "output_type": "stream",
     "text": [
      "[]\n"
     ]
    }
   ],
   "source": [
    "source_tags = soup.select(\"source\")\n",
    "print(source_tags)"
   ]
  },
  {
   "cell_type": "code",
   "execution_count": 15,
   "metadata": {},
   "outputs": [
    {
     "data": {
      "text/plain": [
       "str"
      ]
     },
     "execution_count": 15,
     "metadata": {},
     "output_type": "execute_result"
    }
   ],
   "source": [
    "with open(\"modified_original_webpage.html\", \"r\") as file:\n",
    "    file_content = file.read()\n",
    "type(file_content)"
   ]
  },
  {
   "cell_type": "code",
   "execution_count": 16,
   "metadata": {},
   "outputs": [
    {
     "data": {
      "text/plain": [
       "1650453"
      ]
     },
     "execution_count": 16,
     "metadata": {},
     "output_type": "execute_result"
    }
   ],
   "source": [
    "file_content.find('<video')"
   ]
  },
  {
   "cell_type": "code",
   "execution_count": 17,
   "metadata": {},
   "outputs": [
    {
     "data": {
      "text/plain": [
       "1651237"
      ]
     },
     "execution_count": 17,
     "metadata": {},
     "output_type": "execute_result"
    }
   ],
   "source": [
    "file_content.find('/video>')"
   ]
  },
  {
   "cell_type": "code",
   "execution_count": 18,
   "metadata": {},
   "outputs": [
    {
     "data": {
      "text/plain": [
       "'so here we get the video tag,in which we have the video url'"
      ]
     },
     "execution_count": 18,
     "metadata": {},
     "output_type": "execute_result"
    }
   ],
   "source": [
    "file_content[file_content.find('<video'):file_content.find('/video>')+len('/video>')]\n",
    "# Extracting the video URL from the <video> tag\n",
    "\"\"\"so here we get the video tag,in which we have the video url\"\"\"\n",
    "#output:'<video data-v-8df8a63f=\"\" src=\"https://mpvideo.qpic.cn/0bf2xmaeiaaa4aalzvjqjnpvbo6dis5qaraa.f10003.mp4?dis_k=aff5f6a098a79d5beb328cbfdfa1de7d&amp;dis_t=1743296183&amp;play_scene=10120&amp;auth_info=XciG+plVOV5ItKfQ3B8sM1pGKXBmBWpGEycIez19HR5leB0wZXgiEz9XbkIPdSETTkw=&amp;auth_key=ee08e436732ad7bce682a74e6e767215&amp;vid=wxv_1467210432233668610&amp;format_id=10003&amp;support_redirect=0&amp;mmversion=false\" poster=\"http://mmbiz.qpic.cn/sz_mmbiz_jpg/MRLa3LQicRKZQd6D9HLVp00J32jJleeibUg1D5xgSAEHVFqqdHXas0PJdURWnvDyZqicxv1yJwgs8FkkYCmOrcLFw/0?wx_fmt=jpeg&amp;wxfrom=16\" webkit-playsinline=\"isiPhoneShowPlaysinline\" playsinline=\"isiPhoneShowPlaysinline\" preload=\"metadata\" crossorigin=\"anonymous\" controlslist=\"nodownload\" class=\"video_fill\"> Your browser does not support video tags </video>'"
   ]
  },
  {
   "cell_type": "code",
   "execution_count": 1,
   "metadata": {},
   "outputs": [
    {
     "data": {
      "text/plain": [
       "True"
      ]
     },
     "execution_count": 1,
     "metadata": {},
     "output_type": "execute_result"
    }
   ],
   "source": [
    "import webbrowser\n",
    "video_url='https://mpvideo.qpic.cn/0bf2xmaeiaaa4aalzvjqjnpvbo6dis5qaraa.f10003.mp4?dis_k=aff5f6a098a79d5beb328cbfdfa1de7d&amp;dis_t=1743296183&amp;play_scene=10120&amp;auth_info=XciG+plVOV5ItKfQ3B8sM1pGKXBmBWpGEycIez19HR5leB0wZXgiEz9XbkIPdSETTkw=&amp;auth_key=ee08e436732ad7bce682a74e6e767215&amp;vid=wxv_1467210432233668610&amp;format_id=10003&amp;support_redirect=0&amp;mmversion=false'\n",
    "webbrowser.open(video_url)\n",
    "#so here, we can open the video url in the browser directly"
   ]
  },
  {
   "cell_type": "code",
   "execution_count": null,
   "metadata": {},
   "outputs": [],
   "source": [
    "v_url=requests.get(video_url)\n",
    "video_page=v_url.text\n",
    "print(video_page)\n",
    "with open(\"only_video.html\", 'wb') as f:\n",
    "    f.write(video_page)\n",
    "#so here we can save the video page in a file\n",
    "\n",
    "#but fucking runtime!!!!!!!!!"
   ]
  },
  {
   "cell_type": "code",
   "execution_count": null,
   "metadata": {},
   "outputs": [
    {
     "data": {
      "text/plain": [
       "True"
      ]
     },
     "execution_count": 4,
     "metadata": {},
     "output_type": "execute_result"
    }
   ],
   "source": [
    "#so here we can open the video page in a browser\n",
    "webbrowser.open(\"only_video.html\")"
   ]
  },
  {
   "cell_type": "code",
   "execution_count": null,
   "metadata": {},
   "outputs": [
    {
     "ename": "NameError",
     "evalue": "name 'v_url' is not defined",
     "output_type": "error",
     "traceback": [
      "\u001b[0;31m---------------------------------------------------------------------------\u001b[0m",
      "\u001b[0;31mNameError\u001b[0m                                 Traceback (most recent call last)",
      "Cell \u001b[0;32mIn[6], line 3\u001b[0m\n\u001b[1;32m      1\u001b[0m \u001b[38;5;28;01mfrom\u001b[39;00m \u001b[38;5;21;01mbs4\u001b[39;00m \u001b[38;5;28;01mimport\u001b[39;00m BeautifulSoup\n\u001b[1;32m      2\u001b[0m \u001b[38;5;28;01mimport\u001b[39;00m \u001b[38;5;21;01mrequests\u001b[39;00m\n\u001b[0;32m----> 3\u001b[0m video_page\u001b[38;5;241m=\u001b[39m\u001b[43mv_url\u001b[49m\u001b[38;5;241m.\u001b[39mv_url\u001b[38;5;241m=\u001b[39mrequests\u001b[38;5;241m.\u001b[39mget(\u001b[38;5;124m'\u001b[39m\u001b[38;5;124mhttps://mpvideo.qpic.cn/0bf2xmaeiaaa4aalzvjqjnpvbo6dis5qaraa.f10003.mp4?dis_k=aff5f6a098a79d5beb328cbfdfa1de7d&amp;dis_t=1743296183&amp;play_scene=10120&amp;auth_info=XciG+plVOV5ItKfQ3B8sM1pGKXBmBWpGEycIez19HR5leB0wZXgiEz9XbkIPdSETTkw=&amp;auth_key=ee08e436732ad7bce682a74e6e767215&amp;vid=wxv_1467210432233668610&amp;format_id=10003&amp;support_redirect=0&amp;mmversion=false\u001b[39m\u001b[38;5;124m'\u001b[39m)\u001b[38;5;241m.\u001b[39mcontent\n\u001b[1;32m      4\u001b[0m video_page\u001b[38;5;241m=\u001b[39mBeautifulSoup(video_page,\u001b[38;5;124m\"\u001b[39m\u001b[38;5;124mhtml.parser\u001b[39m\u001b[38;5;124m\"\u001b[39m)\n\u001b[1;32m      5\u001b[0m video_page\u001b[38;5;241m.\u001b[39mprettify()\n",
      "\u001b[0;31mNameError\u001b[0m: name 'v_url' is not defined"
     ]
    }
   ],
   "source": [
    "from bs4 import BeautifulSoup\n",
    "import requests\n",
    "video_page=v_url.v_url=requests.get('https://mpvideo.qpic.cn/0bf2xmaeiaaa4aalzvjqjnpvbo6dis5qaraa.f10003.mp4?dis_k=aff5f6a098a79d5beb328cbfdfa1de7d&amp;dis_t=1743296183&amp;play_scene=10120&amp;auth_info=XciG+plVOV5ItKfQ3B8sM1pGKXBmBWpGEycIez19HR5leB0wZXgiEz9XbkIPdSETTkw=&amp;auth_key=ee08e436732ad7bce682a74e6e767215&amp;vid=wxv_1467210432233668610&amp;format_id=10003&amp;support_redirect=0&amp;mmversion=false').content\n",
    "video_page=BeautifulSoup(video_page,\"html.parser\")\n",
    "video_page.prettify()\n",
    "#fucking runtime again"
   ]
  },
  {
   "cell_type": "code",
   "execution_count": null,
   "metadata": {},
   "outputs": [],
   "source": [
    "from bs4 import BeautifulSoup\n",
    "import requests\n",
    "raw_html=requests.get('https://mpvideo.qpic.cn/0bf2xmaeiaaa4aalzvjqjnpvbo6dis5qaraa.f10003.mp4?dis_k=aff5f6a098a79d5beb328cbfdfa1de7d&amp;amp;dis_t=1743296183&amp;amp;play_scene=10120&amp;amp;auth_info=XciG+plVOV5ItKfQ3B8sM1pGKXBmBWpGEycIez19HR5leB0wZXgiEz9XbkIPdSETTkw=&amp;amp;auth_key=ee08e436732ad7bce682a74e6e767215&amp;amp;vid=wxv_1467210432233668610&amp;amp;format_id=10003&amp;amp;support_redirect=0&amp;amp;mmversion=false').content\n",
    "video_soup = BeautifulSoup(raw_html, 'html.parser')\n",
    "video_soup.prettify()\n"
   ]
  },
  {
   "cell_type": "code",
   "execution_count": null,
   "metadata": {},
   "outputs": [],
   "source": []
  }
 ],
 "metadata": {
  "kernelspec": {
   "display_name": "Python 3",
   "language": "python",
   "name": "python3"
  },
  "language_info": {
   "codemirror_mode": {
    "name": "ipython",
    "version": 3
   },
   "file_extension": ".py",
   "mimetype": "text/x-python",
   "name": "python",
   "nbconvert_exporter": "python",
   "pygments_lexer": "ipython3",
   "version": "3.13.1"
  }
 },
 "nbformat": 4,
 "nbformat_minor": 2
}
